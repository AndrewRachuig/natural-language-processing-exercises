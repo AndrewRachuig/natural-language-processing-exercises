{
 "cells": [
  {
   "cell_type": "code",
   "execution_count": 1,
   "id": "b257a3e9",
   "metadata": {},
   "outputs": [],
   "source": [
    "import unicodedata\n",
    "import re\n",
    "import json\n",
    "\n",
    "import nltk\n",
    "from nltk.tokenize.toktok import ToktokTokenizer\n",
    "from nltk.corpus import stopwords\n",
    "\n",
    "import pandas as pd\n",
    "\n",
    "import acquire"
   ]
  },
  {
   "cell_type": "markdown",
   "id": "12b3090f",
   "metadata": {},
   "source": [
    "## Exercises\n",
    "The end result of this exercise should be a file named prepare.py that defines the requested functions.\n",
    "\n",
    "In this exercise we will be defining some functions to prepare textual data. These functions should apply equally well to both the codeup blog articles and the news articles that were previously acquired."
   ]
  },
  {
   "cell_type": "markdown",
   "id": "707716ee",
   "metadata": {},
   "source": [
    "### 1. Define a function named basic_clean. It should take in a string and apply some basic text cleaning to it:\n",
    "\n",
    "- Lowercase everything\n",
    "- Normalize unicode characters\n",
    "- Replace anything that is not a letter, number, whitespace or a single quote.\n"
   ]
  },
  {
   "cell_type": "code",
   "execution_count": 2,
   "id": "0e2ba85f",
   "metadata": {},
   "outputs": [],
   "source": [
    "def basic_clean(string):\n",
    "    string = string.lower()\n",
    "    string = unicodedata.normalize('NFKD', string).encode('ascii', 'ignore').decode('utf-8', 'ignore')\n",
    "    string = re.sub(r'[^a-z0-9\\'\\s]', '', string)\n",
    "    return string"
   ]
  },
  {
   "cell_type": "code",
   "execution_count": 3,
   "id": "9062fd23",
   "metadata": {},
   "outputs": [
    {
     "name": "stdout",
     "output_type": "stream",
     "text": [
      "He said they're wanting us to go to room *323, type  #$_sdfkllk_s into the 'keypad' and say سيببسس\n"
     ]
    },
    {
     "data": {
      "text/plain": [
       "\"he said they're wanting us to go to room 323 type  sdfkllks into the 'keypad' and say \""
      ]
     },
     "execution_count": 3,
     "metadata": {},
     "output_type": "execute_result"
    }
   ],
   "source": [
    "sample_text = \"He said they're wanting us to go to room *323, type  #$_sdfkllk_s into the 'keypad' and say سيببسس\"\n",
    "print(sample_text)\n",
    "basic_clean(sample_text)"
   ]
  },
  {
   "cell_type": "markdown",
   "id": "d1c43eeb",
   "metadata": {},
   "source": [
    "### 2. Define a function named tokenize. It should take in a string and tokenize all the words in the string."
   ]
  },
  {
   "cell_type": "code",
   "execution_count": 4,
   "id": "a9ce5518",
   "metadata": {},
   "outputs": [],
   "source": [
    "def tokenize(string):\n",
    "    tokenizer = nltk.tokenize.ToktokTokenizer()\n",
    "    return tokenizer.tokenize(string, return_str=True)"
   ]
  },
  {
   "cell_type": "code",
   "execution_count": 5,
   "id": "667eef26",
   "metadata": {},
   "outputs": [
    {
     "data": {
      "text/plain": [
       "\"he said they ' re wanting us to go to room 323 type sdfkllks into the ' keypad ' and say\""
      ]
     },
     "execution_count": 5,
     "metadata": {},
     "output_type": "execute_result"
    }
   ],
   "source": [
    "tokenize(basic_clean(sample_text))"
   ]
  },
  {
   "cell_type": "markdown",
   "id": "e566af45",
   "metadata": {},
   "source": [
    "### 3. Define a function named stem. It should accept some text and return the text after applying stemming to all the words."
   ]
  },
  {
   "cell_type": "code",
   "execution_count": 6,
   "id": "d2cbd20b",
   "metadata": {},
   "outputs": [],
   "source": [
    "def stem(string):\n",
    "    ps = nltk.porter.PorterStemmer()\n",
    "    stems = [ps.stem(word) for word in string.split()]\n",
    "    return ' '.join(stems)"
   ]
  },
  {
   "cell_type": "code",
   "execution_count": 7,
   "id": "84d9830d",
   "metadata": {},
   "outputs": [
    {
     "data": {
      "text/plain": [
       "\"he said they ' re want us to go to room 323 type sdfkllk into the ' keypad ' and say\""
      ]
     },
     "execution_count": 7,
     "metadata": {},
     "output_type": "execute_result"
    }
   ],
   "source": [
    "stem(tokenize(basic_clean(sample_text)))"
   ]
  },
  {
   "cell_type": "markdown",
   "id": "3fddb2d8",
   "metadata": {},
   "source": [
    "### 4. Define a function named lemmatize. It should accept some text and return the text after applying lemmatization to each word."
   ]
  },
  {
   "cell_type": "code",
   "execution_count": 8,
   "id": "76d6d26c",
   "metadata": {},
   "outputs": [],
   "source": [
    "def lemmatize(string):\n",
    "    wnl = nltk.stem.WordNetLemmatizer()\n",
    "    lemmas = [wnl.lemmatize(word) for word in string.split()]\n",
    "    return ' '.join(lemmas)"
   ]
  },
  {
   "cell_type": "code",
   "execution_count": 9,
   "id": "864981a5",
   "metadata": {},
   "outputs": [
    {
     "data": {
      "text/plain": [
       "\"he said they ' re wanting u to go to room 323 type sdfkllks into the ' keypad ' and say\""
      ]
     },
     "execution_count": 9,
     "metadata": {},
     "output_type": "execute_result"
    }
   ],
   "source": [
    "lemmatize(tokenize(basic_clean(sample_text)))"
   ]
  },
  {
   "cell_type": "markdown",
   "id": "72995577",
   "metadata": {},
   "source": [
    "### 5. Define a function named remove_stopwords. It should accept some text and return the text after removing all the stopwords.\n",
    "\n",
    "This function should define two optional parameters, extra_words and exclude_words. These parameters should define any additional stop words to include, and any words that we don't want to remove."
   ]
  },
  {
   "cell_type": "code",
   "execution_count": 10,
   "id": "d8f95aeb",
   "metadata": {},
   "outputs": [],
   "source": [
    "def remove_stopwords(string, extra_words = None, exclude_words = None):\n",
    "    stopword_list = stopwords.words('english')\n",
    "    if extra_words != None:\n",
    "        stopword_list = stopword_list.append(extrawords)\n",
    "    if exclude_words != None:\n",
    "        stopword_list = stopword_list.remove(exclude_words)\n",
    "    words = string.split()\n",
    "    filtered_words = [w for w in words if w not in stopword_list]\n",
    "    return ' '.join(filtered_words)"
   ]
  },
  {
   "cell_type": "code",
   "execution_count": 11,
   "id": "b8fb0efb",
   "metadata": {},
   "outputs": [
    {
     "data": {
      "text/plain": [
       "\"He said they're wanting us go room *323, type #$_sdfkllk_s 'keypad' say سيببسس\""
      ]
     },
     "execution_count": 11,
     "metadata": {},
     "output_type": "execute_result"
    }
   ],
   "source": [
    "remove_stopwords(sample_text)"
   ]
  },
  {
   "cell_type": "markdown",
   "id": "8ed4bcce",
   "metadata": {},
   "source": [
    "### 6. Use your data from the acquire to produce a dataframe of the news articles. Name the dataframe news_df."
   ]
  },
  {
   "cell_type": "code",
   "execution_count": 12,
   "id": "3c5798d3",
   "metadata": {},
   "outputs": [],
   "source": [
    "news_df = acquire.get_all_inshorts_articles()"
   ]
  },
  {
   "cell_type": "code",
   "execution_count": 13,
   "id": "cfec340d",
   "metadata": {},
   "outputs": [
    {
     "data": {
      "text/html": [
       "<div>\n",
       "<style scoped>\n",
       "    .dataframe tbody tr th:only-of-type {\n",
       "        vertical-align: middle;\n",
       "    }\n",
       "\n",
       "    .dataframe tbody tr th {\n",
       "        vertical-align: top;\n",
       "    }\n",
       "\n",
       "    .dataframe thead th {\n",
       "        text-align: right;\n",
       "    }\n",
       "</style>\n",
       "<table border=\"1\" class=\"dataframe\">\n",
       "  <thead>\n",
       "    <tr style=\"text-align: right;\">\n",
       "      <th></th>\n",
       "      <th>title</th>\n",
       "      <th>content</th>\n",
       "      <th>category</th>\n",
       "    </tr>\n",
       "  </thead>\n",
       "  <tbody>\n",
       "    <tr>\n",
       "      <th>0</th>\n",
       "      <td>Rupee edges closer to 80 per US dollar, opens ...</td>\n",
       "      <td>The rupee on Friday opened at a record low of ...</td>\n",
       "      <td>business</td>\n",
       "    </tr>\n",
       "    <tr>\n",
       "      <th>1</th>\n",
       "      <td>Rupee drops 9 paise to close at all-time low o...</td>\n",
       "      <td>The rupee declined by 9 paise to close at a ne...</td>\n",
       "      <td>business</td>\n",
       "    </tr>\n",
       "    <tr>\n",
       "      <th>2</th>\n",
       "      <td>Musk accused lawyers of causing trouble by see...</td>\n",
       "      <td>In its lawsuit against Tesla CEO Elon Musk, Tw...</td>\n",
       "      <td>business</td>\n",
       "    </tr>\n",
       "    <tr>\n",
       "      <th>3</th>\n",
       "      <td>No plans for company-wide layoffs: Twitter ami...</td>\n",
       "      <td>In a filing, Twitter has said that it isn't lo...</td>\n",
       "      <td>business</td>\n",
       "    </tr>\n",
       "    <tr>\n",
       "      <th>4</th>\n",
       "      <td>Elon has a real record of success: LinkedIn Co...</td>\n",
       "      <td>LinkedIn's billionaire Co-founder Reid Hoffman...</td>\n",
       "      <td>business</td>\n",
       "    </tr>\n",
       "  </tbody>\n",
       "</table>\n",
       "</div>"
      ],
      "text/plain": [
       "                                               title  \\\n",
       "0  Rupee edges closer to 80 per US dollar, opens ...   \n",
       "1  Rupee drops 9 paise to close at all-time low o...   \n",
       "2  Musk accused lawyers of causing trouble by see...   \n",
       "3  No plans for company-wide layoffs: Twitter ami...   \n",
       "4  Elon has a real record of success: LinkedIn Co...   \n",
       "\n",
       "                                             content  category  \n",
       "0  The rupee on Friday opened at a record low of ...  business  \n",
       "1  The rupee declined by 9 paise to close at a ne...  business  \n",
       "2  In its lawsuit against Tesla CEO Elon Musk, Tw...  business  \n",
       "3  In a filing, Twitter has said that it isn't lo...  business  \n",
       "4  LinkedIn's billionaire Co-founder Reid Hoffman...  business  "
      ]
     },
     "execution_count": 13,
     "metadata": {},
     "output_type": "execute_result"
    }
   ],
   "source": [
    "news_df.head()"
   ]
  },
  {
   "cell_type": "code",
   "execution_count": 23,
   "id": "3cf17de3",
   "metadata": {},
   "outputs": [
    {
     "data": {
      "text/html": [
       "<div>\n",
       "<style scoped>\n",
       "    .dataframe tbody tr th:only-of-type {\n",
       "        vertical-align: middle;\n",
       "    }\n",
       "\n",
       "    .dataframe tbody tr th {\n",
       "        vertical-align: top;\n",
       "    }\n",
       "\n",
       "    .dataframe thead th {\n",
       "        text-align: right;\n",
       "    }\n",
       "</style>\n",
       "<table border=\"1\" class=\"dataframe\">\n",
       "  <thead>\n",
       "    <tr style=\"text-align: right;\">\n",
       "      <th></th>\n",
       "      <th>title</th>\n",
       "      <th>content</th>\n",
       "      <th>category</th>\n",
       "      <th>combined</th>\n",
       "    </tr>\n",
       "  </thead>\n",
       "  <tbody>\n",
       "    <tr>\n",
       "      <th>0</th>\n",
       "      <td>Rupee edges closer to 80 per US dollar, opens ...</td>\n",
       "      <td>The rupee on Friday opened at a record low of ...</td>\n",
       "      <td>business</td>\n",
       "      <td>business Rupee edges closer to 80 per US dolla...</td>\n",
       "    </tr>\n",
       "    <tr>\n",
       "      <th>1</th>\n",
       "      <td>Rupee drops 9 paise to close at all-time low o...</td>\n",
       "      <td>The rupee declined by 9 paise to close at a ne...</td>\n",
       "      <td>business</td>\n",
       "      <td>business Rupee drops 9 paise to close at all-t...</td>\n",
       "    </tr>\n",
       "    <tr>\n",
       "      <th>2</th>\n",
       "      <td>Musk accused lawyers of causing trouble by see...</td>\n",
       "      <td>In its lawsuit against Tesla CEO Elon Musk, Tw...</td>\n",
       "      <td>business</td>\n",
       "      <td>business Musk accused lawyers of causing troub...</td>\n",
       "    </tr>\n",
       "    <tr>\n",
       "      <th>3</th>\n",
       "      <td>No plans for company-wide layoffs: Twitter ami...</td>\n",
       "      <td>In a filing, Twitter has said that it isn't lo...</td>\n",
       "      <td>business</td>\n",
       "      <td>business No plans for company-wide layoffs: Tw...</td>\n",
       "    </tr>\n",
       "    <tr>\n",
       "      <th>4</th>\n",
       "      <td>Elon has a real record of success: LinkedIn Co...</td>\n",
       "      <td>LinkedIn's billionaire Co-founder Reid Hoffman...</td>\n",
       "      <td>business</td>\n",
       "      <td>business Elon has a real record of success: Li...</td>\n",
       "    </tr>\n",
       "    <tr>\n",
       "      <th>...</th>\n",
       "      <td>...</td>\n",
       "      <td>...</td>\n",
       "      <td>...</td>\n",
       "      <td>...</td>\n",
       "    </tr>\n",
       "    <tr>\n",
       "      <th>95</th>\n",
       "      <td>My dad likes my films when I'm not remaking hi...</td>\n",
       "      <td>Actress Sara Ali Khan recently appeared on cel...</td>\n",
       "      <td>entertainment</td>\n",
       "      <td>entertainment My dad likes my films when I'm n...</td>\n",
       "    </tr>\n",
       "    <tr>\n",
       "      <th>96</th>\n",
       "      <td>Bagwati in background: Abhay on 11 yrs of 'Zin...</td>\n",
       "      <td>Actor Abhay Deol shared a series of selfies on...</td>\n",
       "      <td>entertainment</td>\n",
       "      <td>entertainment Bagwati in background: Abhay on ...</td>\n",
       "    </tr>\n",
       "    <tr>\n",
       "      <th>97</th>\n",
       "      <td>'Chup' is a commercial thriller, will release ...</td>\n",
       "      <td>Director R Balki has said his upcoming film 'C...</td>\n",
       "      <td>entertainment</td>\n",
       "      <td>entertainment 'Chup' is a commercial thriller,...</td>\n",
       "    </tr>\n",
       "    <tr>\n",
       "      <th>98</th>\n",
       "      <td>Playing quintessential B'wood hero is hardest,...</td>\n",
       "      <td>Actor Ranbir Kapoor said playing a quintessent...</td>\n",
       "      <td>entertainment</td>\n",
       "      <td>entertainment Playing quintessential B'wood he...</td>\n",
       "    </tr>\n",
       "    <tr>\n",
       "      <th>99</th>\n",
       "      <td>I heard story &amp; felt I knew characters that we...</td>\n",
       "      <td>Director Ruchir Arun said that when he heard s...</td>\n",
       "      <td>entertainment</td>\n",
       "      <td>entertainment I heard story &amp; felt I knew char...</td>\n",
       "    </tr>\n",
       "  </tbody>\n",
       "</table>\n",
       "<p>100 rows × 4 columns</p>\n",
       "</div>"
      ],
      "text/plain": [
       "                                                title  \\\n",
       "0   Rupee edges closer to 80 per US dollar, opens ...   \n",
       "1   Rupee drops 9 paise to close at all-time low o...   \n",
       "2   Musk accused lawyers of causing trouble by see...   \n",
       "3   No plans for company-wide layoffs: Twitter ami...   \n",
       "4   Elon has a real record of success: LinkedIn Co...   \n",
       "..                                                ...   \n",
       "95  My dad likes my films when I'm not remaking hi...   \n",
       "96  Bagwati in background: Abhay on 11 yrs of 'Zin...   \n",
       "97  'Chup' is a commercial thriller, will release ...   \n",
       "98  Playing quintessential B'wood hero is hardest,...   \n",
       "99  I heard story & felt I knew characters that we...   \n",
       "\n",
       "                                              content       category  \\\n",
       "0   The rupee on Friday opened at a record low of ...       business   \n",
       "1   The rupee declined by 9 paise to close at a ne...       business   \n",
       "2   In its lawsuit against Tesla CEO Elon Musk, Tw...       business   \n",
       "3   In a filing, Twitter has said that it isn't lo...       business   \n",
       "4   LinkedIn's billionaire Co-founder Reid Hoffman...       business   \n",
       "..                                                ...            ...   \n",
       "95  Actress Sara Ali Khan recently appeared on cel...  entertainment   \n",
       "96  Actor Abhay Deol shared a series of selfies on...  entertainment   \n",
       "97  Director R Balki has said his upcoming film 'C...  entertainment   \n",
       "98  Actor Ranbir Kapoor said playing a quintessent...  entertainment   \n",
       "99  Director Ruchir Arun said that when he heard s...  entertainment   \n",
       "\n",
       "                                             combined  \n",
       "0   business Rupee edges closer to 80 per US dolla...  \n",
       "1   business Rupee drops 9 paise to close at all-t...  \n",
       "2   business Musk accused lawyers of causing troub...  \n",
       "3   business No plans for company-wide layoffs: Tw...  \n",
       "4   business Elon has a real record of success: Li...  \n",
       "..                                                ...  \n",
       "95  entertainment My dad likes my films when I'm n...  \n",
       "96  entertainment Bagwati in background: Abhay on ...  \n",
       "97  entertainment 'Chup' is a commercial thriller,...  \n",
       "98  entertainment Playing quintessential B'wood he...  \n",
       "99  entertainment I heard story & felt I knew char...  \n",
       "\n",
       "[100 rows x 4 columns]"
      ]
     },
     "execution_count": 23,
     "metadata": {},
     "output_type": "execute_result"
    }
   ],
   "source": [
    "news_df['combined'] = news_df[['category','title']].apply(' '.join, axis =1)\n",
    "news_df"
   ]
  },
  {
   "cell_type": "markdown",
   "id": "1faadc75",
   "metadata": {},
   "source": [
    "### 7. Make another dataframe for the Codeup blog posts. Name the dataframe codeup_df."
   ]
  },
  {
   "cell_type": "code",
   "execution_count": 24,
   "id": "967d1f78",
   "metadata": {},
   "outputs": [],
   "source": [
    "codeup_df = acquire.get_all_codeup_blogs()"
   ]
  },
  {
   "cell_type": "code",
   "execution_count": 25,
   "id": "1fe14f2c",
   "metadata": {},
   "outputs": [
    {
     "data": {
      "text/html": [
       "<div>\n",
       "<style scoped>\n",
       "    .dataframe tbody tr th:only-of-type {\n",
       "        vertical-align: middle;\n",
       "    }\n",
       "\n",
       "    .dataframe tbody tr th {\n",
       "        vertical-align: top;\n",
       "    }\n",
       "\n",
       "    .dataframe thead th {\n",
       "        text-align: right;\n",
       "    }\n",
       "</style>\n",
       "<table border=\"1\" class=\"dataframe\">\n",
       "  <thead>\n",
       "    <tr style=\"text-align: right;\">\n",
       "      <th></th>\n",
       "      <th>title</th>\n",
       "      <th>date</th>\n",
       "      <th>content</th>\n",
       "      <th>link</th>\n",
       "    </tr>\n",
       "  </thead>\n",
       "  <tbody>\n",
       "    <tr>\n",
       "      <th>0</th>\n",
       "      <td>In-Person Workshop: Learn to Code - Python on ...</td>\n",
       "      <td>Jun 20, 2022</td>\n",
       "      <td>In-Person Workshop: Learn to Code – Python on ...</td>\n",
       "      <td>https://codeup.com/workshops/in-person-worksho...</td>\n",
       "    </tr>\n",
       "    <tr>\n",
       "      <th>1</th>\n",
       "      <td>Free JavaScript Workshop at Codeup Dallas on 6...</td>\n",
       "      <td>Jun 19, 2022</td>\n",
       "      <td>Free JavaScript Workshop at Codeup Dallas on 6...</td>\n",
       "      <td>https://codeup.com/workshops/dallas/free-javas...</td>\n",
       "    </tr>\n",
       "    <tr>\n",
       "      <th>2</th>\n",
       "      <td>Is Our Cloud Administration Program Right for ...</td>\n",
       "      <td>Jun 8, 2022</td>\n",
       "      <td>Is Our Cloud Administration Program Right for ...</td>\n",
       "      <td>https://codeup.com/tips-for-prospective-studen...</td>\n",
       "    </tr>\n",
       "    <tr>\n",
       "      <th>3</th>\n",
       "      <td>PRIDE in Tech Panel - Codeup</td>\n",
       "      <td>Jun 5, 2022</td>\n",
       "      <td>PRIDE in Tech Panel\\nJun 5, 2022 | Dallas, San...</td>\n",
       "      <td>https://codeup.com/workshops/pride-in-tech-panel/</td>\n",
       "    </tr>\n",
       "    <tr>\n",
       "      <th>4</th>\n",
       "      <td>Inclusion at Codeup During Pride Month (and Al...</td>\n",
       "      <td>Jun 1, 2022</td>\n",
       "      <td>Inclusion at Codeup During Pride Month (and Al...</td>\n",
       "      <td>https://codeup.com/codeup-news/inclusion-at-co...</td>\n",
       "    </tr>\n",
       "  </tbody>\n",
       "</table>\n",
       "</div>"
      ],
      "text/plain": [
       "                                               title           date  \\\n",
       "0  In-Person Workshop: Learn to Code - Python on ...  Jun 20, 2022    \n",
       "1  Free JavaScript Workshop at Codeup Dallas on 6...  Jun 19, 2022    \n",
       "2  Is Our Cloud Administration Program Right for ...   Jun 8, 2022    \n",
       "3                       PRIDE in Tech Panel - Codeup   Jun 5, 2022    \n",
       "4  Inclusion at Codeup During Pride Month (and Al...   Jun 1, 2022    \n",
       "\n",
       "                                             content  \\\n",
       "0  In-Person Workshop: Learn to Code – Python on ...   \n",
       "1  Free JavaScript Workshop at Codeup Dallas on 6...   \n",
       "2  Is Our Cloud Administration Program Right for ...   \n",
       "3  PRIDE in Tech Panel\\nJun 5, 2022 | Dallas, San...   \n",
       "4  Inclusion at Codeup During Pride Month (and Al...   \n",
       "\n",
       "                                                link  \n",
       "0  https://codeup.com/workshops/in-person-worksho...  \n",
       "1  https://codeup.com/workshops/dallas/free-javas...  \n",
       "2  https://codeup.com/tips-for-prospective-studen...  \n",
       "3  https://codeup.com/workshops/pride-in-tech-panel/  \n",
       "4  https://codeup.com/codeup-news/inclusion-at-co...  "
      ]
     },
     "execution_count": 25,
     "metadata": {},
     "output_type": "execute_result"
    }
   ],
   "source": [
    "codeup_df.head()"
   ]
  },
  {
   "cell_type": "markdown",
   "id": "ba5a8959",
   "metadata": {},
   "source": [
    "### 8. For each dataframe, produce the following columns:\n",
    "\n",
    "- title to hold the title\n",
    "- original to hold the original article/post content\n",
    "- clean to hold the normalized and tokenized original with the stopwords removed.\n",
    "- stemmed to hold the stemmed version of the cleaned data.\n",
    "- lemmatized to hold the lemmatized version of the cleaned data."
   ]
  },
  {
   "cell_type": "markdown",
   "id": "672ee02b",
   "metadata": {},
   "source": [
    "#### Changes made to news_df"
   ]
  },
  {
   "cell_type": "code",
   "execution_count": 26,
   "id": "ae07c25a",
   "metadata": {},
   "outputs": [],
   "source": [
    "news_df.drop(columns = 'category', inplace=True)"
   ]
  },
  {
   "cell_type": "code",
   "execution_count": 27,
   "id": "071e74c6",
   "metadata": {},
   "outputs": [],
   "source": [
    "news_df.rename({'content':'original'}, axis=1, inplace=True)"
   ]
  },
  {
   "cell_type": "code",
   "execution_count": 28,
   "id": "dc339fa0",
   "metadata": {},
   "outputs": [],
   "source": [
    "news_df['clean'] = news_df.original.apply(basic_clean)"
   ]
  },
  {
   "cell_type": "code",
   "execution_count": 29,
   "id": "816bfe2a",
   "metadata": {},
   "outputs": [],
   "source": [
    "news_df['clean'] = news_df.clean.apply(tokenize)"
   ]
  },
  {
   "cell_type": "code",
   "execution_count": 30,
   "id": "2d8a9c49",
   "metadata": {},
   "outputs": [],
   "source": [
    "news_df['clean'] = news_df.clean.apply(remove_stopwords)"
   ]
  },
  {
   "cell_type": "code",
   "execution_count": 31,
   "id": "cf397e53",
   "metadata": {},
   "outputs": [],
   "source": [
    "news_df['stemmed'] = news_df.clean.apply(stem)"
   ]
  },
  {
   "cell_type": "code",
   "execution_count": 32,
   "id": "63eaae4b",
   "metadata": {},
   "outputs": [],
   "source": [
    "news_df['lemmatized'] = news_df.clean.apply(lemmatize)"
   ]
  },
  {
   "cell_type": "code",
   "execution_count": 33,
   "id": "b3645cf1",
   "metadata": {
    "scrolled": true
   },
   "outputs": [
    {
     "data": {
      "text/html": [
       "<div>\n",
       "<style scoped>\n",
       "    .dataframe tbody tr th:only-of-type {\n",
       "        vertical-align: middle;\n",
       "    }\n",
       "\n",
       "    .dataframe tbody tr th {\n",
       "        vertical-align: top;\n",
       "    }\n",
       "\n",
       "    .dataframe thead th {\n",
       "        text-align: right;\n",
       "    }\n",
       "</style>\n",
       "<table border=\"1\" class=\"dataframe\">\n",
       "  <thead>\n",
       "    <tr style=\"text-align: right;\">\n",
       "      <th></th>\n",
       "      <th>title</th>\n",
       "      <th>original</th>\n",
       "      <th>combined</th>\n",
       "      <th>clean</th>\n",
       "      <th>stemmed</th>\n",
       "      <th>lemmatized</th>\n",
       "    </tr>\n",
       "  </thead>\n",
       "  <tbody>\n",
       "    <tr>\n",
       "      <th>0</th>\n",
       "      <td>Rupee edges closer to 80 per US dollar, opens ...</td>\n",
       "      <td>The rupee on Friday opened at a record low of ...</td>\n",
       "      <td>business Rupee edges closer to 80 per US dolla...</td>\n",
       "      <td>rupee friday opened record low 7994 us dollar ...</td>\n",
       "      <td>rupe friday open record low 7994 us dollar far...</td>\n",
       "      <td>rupee friday opened record low 7994 u dollar f...</td>\n",
       "    </tr>\n",
       "    <tr>\n",
       "      <th>1</th>\n",
       "      <td>Rupee drops 9 paise to close at all-time low o...</td>\n",
       "      <td>The rupee declined by 9 paise to close at a ne...</td>\n",
       "      <td>business Rupee drops 9 paise to close at all-t...</td>\n",
       "      <td>rupee declined 9 paise close new record low 79...</td>\n",
       "      <td>rupe declin 9 pais close new record low 7990 u...</td>\n",
       "      <td>rupee declined 9 paisa close new record low 79...</td>\n",
       "    </tr>\n",
       "    <tr>\n",
       "      <th>2</th>\n",
       "      <td>Musk accused lawyers of causing trouble by see...</td>\n",
       "      <td>In its lawsuit against Tesla CEO Elon Musk, Tw...</td>\n",
       "      <td>business Musk accused lawyers of causing troub...</td>\n",
       "      <td>lawsuit tesla ceo elon musk twitter shared pur...</td>\n",
       "      <td>lawsuit tesla ceo elon musk twitter share purp...</td>\n",
       "      <td>lawsuit tesla ceo elon musk twitter shared pur...</td>\n",
       "    </tr>\n",
       "    <tr>\n",
       "      <th>3</th>\n",
       "      <td>No plans for company-wide layoffs: Twitter ami...</td>\n",
       "      <td>In a filing, Twitter has said that it isn't lo...</td>\n",
       "      <td>business No plans for company-wide layoffs: Tw...</td>\n",
       "      <td>filing twitter said ' looking companywide layo...</td>\n",
       "      <td>file twitter said ' look companywid layoff cou...</td>\n",
       "      <td>filing twitter said ' looking companywide layo...</td>\n",
       "    </tr>\n",
       "    <tr>\n",
       "      <th>4</th>\n",
       "      <td>Elon has a real record of success: LinkedIn Co...</td>\n",
       "      <td>LinkedIn's billionaire Co-founder Reid Hoffman...</td>\n",
       "      <td>business Elon has a real record of success: Li...</td>\n",
       "      <td>linkedin ' billionaire cofounder reid hoffman ...</td>\n",
       "      <td>linkedin ' billionair cofound reid hoffman def...</td>\n",
       "      <td>linkedin ' billionaire cofounder reid hoffman ...</td>\n",
       "    </tr>\n",
       "  </tbody>\n",
       "</table>\n",
       "</div>"
      ],
      "text/plain": [
       "                                               title  \\\n",
       "0  Rupee edges closer to 80 per US dollar, opens ...   \n",
       "1  Rupee drops 9 paise to close at all-time low o...   \n",
       "2  Musk accused lawyers of causing trouble by see...   \n",
       "3  No plans for company-wide layoffs: Twitter ami...   \n",
       "4  Elon has a real record of success: LinkedIn Co...   \n",
       "\n",
       "                                            original  \\\n",
       "0  The rupee on Friday opened at a record low of ...   \n",
       "1  The rupee declined by 9 paise to close at a ne...   \n",
       "2  In its lawsuit against Tesla CEO Elon Musk, Tw...   \n",
       "3  In a filing, Twitter has said that it isn't lo...   \n",
       "4  LinkedIn's billionaire Co-founder Reid Hoffman...   \n",
       "\n",
       "                                            combined  \\\n",
       "0  business Rupee edges closer to 80 per US dolla...   \n",
       "1  business Rupee drops 9 paise to close at all-t...   \n",
       "2  business Musk accused lawyers of causing troub...   \n",
       "3  business No plans for company-wide layoffs: Tw...   \n",
       "4  business Elon has a real record of success: Li...   \n",
       "\n",
       "                                               clean  \\\n",
       "0  rupee friday opened record low 7994 us dollar ...   \n",
       "1  rupee declined 9 paise close new record low 79...   \n",
       "2  lawsuit tesla ceo elon musk twitter shared pur...   \n",
       "3  filing twitter said ' looking companywide layo...   \n",
       "4  linkedin ' billionaire cofounder reid hoffman ...   \n",
       "\n",
       "                                             stemmed  \\\n",
       "0  rupe friday open record low 7994 us dollar far...   \n",
       "1  rupe declin 9 pais close new record low 7990 u...   \n",
       "2  lawsuit tesla ceo elon musk twitter share purp...   \n",
       "3  file twitter said ' look companywid layoff cou...   \n",
       "4  linkedin ' billionair cofound reid hoffman def...   \n",
       "\n",
       "                                          lemmatized  \n",
       "0  rupee friday opened record low 7994 u dollar f...  \n",
       "1  rupee declined 9 paisa close new record low 79...  \n",
       "2  lawsuit tesla ceo elon musk twitter shared pur...  \n",
       "3  filing twitter said ' looking companywide layo...  \n",
       "4  linkedin ' billionaire cofounder reid hoffman ...  "
      ]
     },
     "execution_count": 33,
     "metadata": {},
     "output_type": "execute_result"
    }
   ],
   "source": [
    "news_df.head()"
   ]
  },
  {
   "cell_type": "markdown",
   "id": "0cde9aaf",
   "metadata": {},
   "source": [
    "#### Changes made to codeup_df"
   ]
  },
  {
   "cell_type": "code",
   "execution_count": 34,
   "id": "70e58bd9",
   "metadata": {},
   "outputs": [],
   "source": [
    "codeup_df.drop(columns= ['date','link'], inplace=True)"
   ]
  },
  {
   "cell_type": "code",
   "execution_count": 35,
   "id": "c23ee942",
   "metadata": {},
   "outputs": [],
   "source": [
    "codeup_df.rename({'content':'original'}, axis=1, inplace=True)"
   ]
  },
  {
   "cell_type": "code",
   "execution_count": 36,
   "id": "0e9258a2",
   "metadata": {},
   "outputs": [
    {
     "data": {
      "text/html": [
       "<div>\n",
       "<style scoped>\n",
       "    .dataframe tbody tr th:only-of-type {\n",
       "        vertical-align: middle;\n",
       "    }\n",
       "\n",
       "    .dataframe tbody tr th {\n",
       "        vertical-align: top;\n",
       "    }\n",
       "\n",
       "    .dataframe thead th {\n",
       "        text-align: right;\n",
       "    }\n",
       "</style>\n",
       "<table border=\"1\" class=\"dataframe\">\n",
       "  <thead>\n",
       "    <tr style=\"text-align: right;\">\n",
       "      <th></th>\n",
       "      <th>title</th>\n",
       "      <th>original</th>\n",
       "      <th>clean</th>\n",
       "      <th>stemmed</th>\n",
       "      <th>lemmatized</th>\n",
       "    </tr>\n",
       "  </thead>\n",
       "  <tbody>\n",
       "    <tr>\n",
       "      <th>0</th>\n",
       "      <td>In-Person Workshop: Learn to Code - Python on ...</td>\n",
       "      <td>In-Person Workshop: Learn to Code – Python on ...</td>\n",
       "      <td>inperson workshop learn code python 719 jun 20...</td>\n",
       "      <td>inperson workshop learn code python 719 jun 20...</td>\n",
       "      <td>inperson workshop learn code python 719 jun 20...</td>\n",
       "    </tr>\n",
       "    <tr>\n",
       "      <th>1</th>\n",
       "      <td>Free JavaScript Workshop at Codeup Dallas on 6...</td>\n",
       "      <td>Free JavaScript Workshop at Codeup Dallas on 6...</td>\n",
       "      <td>free javascript workshop codeup dallas 628 jun...</td>\n",
       "      <td>free javascript workshop codeup dalla 628 jun ...</td>\n",
       "      <td>free javascript workshop codeup dallas 628 jun...</td>\n",
       "    </tr>\n",
       "    <tr>\n",
       "      <th>2</th>\n",
       "      <td>Is Our Cloud Administration Program Right for ...</td>\n",
       "      <td>Is Our Cloud Administration Program Right for ...</td>\n",
       "      <td>cloud administration program right jun 8 2022 ...</td>\n",
       "      <td>cloud administr program right jun 8 2022 featu...</td>\n",
       "      <td>cloud administration program right jun 8 2022 ...</td>\n",
       "    </tr>\n",
       "    <tr>\n",
       "      <th>3</th>\n",
       "      <td>PRIDE in Tech Panel - Codeup</td>\n",
       "      <td>PRIDE in Tech Panel\\nJun 5, 2022 | Dallas, San...</td>\n",
       "      <td>pride tech panel jun 5 2022 dallas san antonio...</td>\n",
       "      <td>pride tech panel jun 5 2022 dalla san antonio ...</td>\n",
       "      <td>pride tech panel jun 5 2022 dallas san antonio...</td>\n",
       "    </tr>\n",
       "    <tr>\n",
       "      <th>4</th>\n",
       "      <td>Inclusion at Codeup During Pride Month (and Al...</td>\n",
       "      <td>Inclusion at Codeup During Pride Month (and Al...</td>\n",
       "      <td>inclusion codeup pride month always jun 1 2022...</td>\n",
       "      <td>inclus codeup pride month alway jun 1 2022 cod...</td>\n",
       "      <td>inclusion codeup pride month always jun 1 2022...</td>\n",
       "    </tr>\n",
       "  </tbody>\n",
       "</table>\n",
       "</div>"
      ],
      "text/plain": [
       "                                               title  \\\n",
       "0  In-Person Workshop: Learn to Code - Python on ...   \n",
       "1  Free JavaScript Workshop at Codeup Dallas on 6...   \n",
       "2  Is Our Cloud Administration Program Right for ...   \n",
       "3                       PRIDE in Tech Panel - Codeup   \n",
       "4  Inclusion at Codeup During Pride Month (and Al...   \n",
       "\n",
       "                                            original  \\\n",
       "0  In-Person Workshop: Learn to Code – Python on ...   \n",
       "1  Free JavaScript Workshop at Codeup Dallas on 6...   \n",
       "2  Is Our Cloud Administration Program Right for ...   \n",
       "3  PRIDE in Tech Panel\\nJun 5, 2022 | Dallas, San...   \n",
       "4  Inclusion at Codeup During Pride Month (and Al...   \n",
       "\n",
       "                                               clean  \\\n",
       "0  inperson workshop learn code python 719 jun 20...   \n",
       "1  free javascript workshop codeup dallas 628 jun...   \n",
       "2  cloud administration program right jun 8 2022 ...   \n",
       "3  pride tech panel jun 5 2022 dallas san antonio...   \n",
       "4  inclusion codeup pride month always jun 1 2022...   \n",
       "\n",
       "                                             stemmed  \\\n",
       "0  inperson workshop learn code python 719 jun 20...   \n",
       "1  free javascript workshop codeup dalla 628 jun ...   \n",
       "2  cloud administr program right jun 8 2022 featu...   \n",
       "3  pride tech panel jun 5 2022 dalla san antonio ...   \n",
       "4  inclus codeup pride month alway jun 1 2022 cod...   \n",
       "\n",
       "                                          lemmatized  \n",
       "0  inperson workshop learn code python 719 jun 20...  \n",
       "1  free javascript workshop codeup dallas 628 jun...  \n",
       "2  cloud administration program right jun 8 2022 ...  \n",
       "3  pride tech panel jun 5 2022 dallas san antonio...  \n",
       "4  inclusion codeup pride month always jun 1 2022...  "
      ]
     },
     "execution_count": 36,
     "metadata": {},
     "output_type": "execute_result"
    }
   ],
   "source": [
    "codeup_df['clean'] = codeup_df.original.apply(basic_clean)\n",
    "codeup_df['clean'] = codeup_df.clean.apply(tokenize)\n",
    "codeup_df['clean'] = codeup_df.clean.apply(remove_stopwords)\n",
    "codeup_df['stemmed'] = codeup_df.clean.apply(stem)\n",
    "codeup_df['lemmatized'] = codeup_df.clean.apply(lemmatize)\n",
    "codeup_df.head()"
   ]
  },
  {
   "cell_type": "code",
   "execution_count": null,
   "id": "a4d04100",
   "metadata": {},
   "outputs": [],
   "source": []
  },
  {
   "cell_type": "code",
   "execution_count": null,
   "id": "dd296feb",
   "metadata": {},
   "outputs": [],
   "source": []
  }
 ],
 "metadata": {
  "kernelspec": {
   "display_name": "Python 3 (ipykernel)",
   "language": "python",
   "name": "python3"
  },
  "language_info": {
   "codemirror_mode": {
    "name": "ipython",
    "version": 3
   },
   "file_extension": ".py",
   "mimetype": "text/x-python",
   "name": "python",
   "nbconvert_exporter": "python",
   "pygments_lexer": "ipython3",
   "version": "3.9.7"
  }
 },
 "nbformat": 4,
 "nbformat_minor": 5
}
