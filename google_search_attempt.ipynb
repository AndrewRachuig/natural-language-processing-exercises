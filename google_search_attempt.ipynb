{
 "cells": [
  {
   "cell_type": "code",
   "execution_count": 1,
   "id": "91ecaa37",
   "metadata": {},
   "outputs": [],
   "source": [
    "from googlesearch import search"
   ]
  },
  {
   "cell_type": "code",
   "execution_count": 33,
   "id": "0b34cbbe",
   "metadata": {
    "scrolled": true
   },
   "outputs": [],
   "source": [
    "query = \"america  before:2015-01-01 after:2012-01-01\"\n",
    "# “before:YYYY-MM-DD” and “after:YYYY-MM-DD” \n",
    "results = search(query, num=10, pause=2)"
   ]
  },
  {
   "cell_type": "code",
   "execution_count": 34,
   "id": "a23d7b72",
   "metadata": {},
   "outputs": [
    {
     "name": "stdout",
     "output_type": "stream",
     "text": [
      "https://www.oneamerica.com/\n",
      "https://www.aafa.org/\n",
      "https://secure.bankofamerica.com/login/sign-in/signOnV2Screen.go\n",
      "https://about.bankofamerica.com/en\n",
      "https://www.feedingamerica.org/hunger-in-america\n",
      "https://www.americamakes.us/\n",
      "https://www.foxnews.com/us\n",
      "https://www.childcareaware.org/\n",
      "https://vva.org/\n",
      "https://www.newyorker.com/magazine/2012/01/30/the-caging-of-america\n",
      "https://www.jewishfederations.org/\n",
      "https://www.energy.gov/eere/buildings/building-america\n",
      "https://www.cmaanet.org/\n",
      "https://www.voa-ncnn.org/\n",
      "https://www.apa.org/news/press/releases/stress/2011/final-2011.pdf\n",
      "https://www.hemophiliafed.org/\n",
      "https://www.aaionline.org/\n",
      "https://bcse.org/factbook/\n",
      "https://www.thedialogue.org/map_list/\n",
      "https://www.americaoutdoors.org/\n"
     ]
    }
   ],
   "source": [
    "for j in results:\n",
    "    print(j)"
   ]
  }
 ],
 "metadata": {
  "kernelspec": {
   "display_name": "Python 3 (ipykernel)",
   "language": "python",
   "name": "python3"
  },
  "language_info": {
   "codemirror_mode": {
    "name": "ipython",
    "version": 3
   },
   "file_extension": ".py",
   "mimetype": "text/x-python",
   "name": "python",
   "nbconvert_exporter": "python",
   "pygments_lexer": "ipython3",
   "version": "3.9.7"
  }
 },
 "nbformat": 4,
 "nbformat_minor": 5
}
