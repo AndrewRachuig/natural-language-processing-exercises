{
 "cells": [
  {
   "cell_type": "code",
   "execution_count": 1,
   "id": "a3a886f4",
   "metadata": {},
   "outputs": [],
   "source": [
    "import pandas as pd\n",
    "import re"
   ]
  },
  {
   "cell_type": "markdown",
   "id": "4d5deb0d",
   "metadata": {},
   "source": [
    "# Exercises"
   ]
  },
  {
   "cell_type": "markdown",
   "id": "31435093",
   "metadata": {},
   "source": [
    "#### 1. Write a function named is_vowel. It should accept a string as input and use a regular expression to determine if the passed string is a vowel. While not explicity mentioned in the lesson, you can treat the result of re.search as a boolean value that indicates whether or not the regular expression matches the given string."
   ]
  },
  {
   "cell_type": "code",
   "execution_count": 2,
   "id": "85e6febd",
   "metadata": {},
   "outputs": [],
   "source": [
    "def is_vowel(string):\n",
    "    if re.search(r'^[aeiou]$', string, re.IGNORECASE):\n",
    "        print('The input string is a vowel.')\n",
    "    else:\n",
    "        print('The input string is not a vowel.')"
   ]
  },
  {
   "cell_type": "code",
   "execution_count": 3,
   "id": "74bdcd7f",
   "metadata": {},
   "outputs": [
    {
     "name": "stdout",
     "output_type": "stream",
     "text": [
      "The input string is a vowel.\n",
      "The input string is not a vowel.\n",
      "The input string is a vowel.\n",
      "The input string is not a vowel.\n",
      "The input string is not a vowel.\n",
      "The input string is not a vowel.\n"
     ]
    }
   ],
   "source": [
    "is_vowel('a')\n",
    "is_vowel('b')\n",
    "is_vowel('A')\n",
    "is_vowel('B')\n",
    "is_vowel('codeup')\n",
    "is_vowel('7')"
   ]
  },
  {
   "cell_type": "markdown",
   "id": "8c7a1ee8",
   "metadata": {},
   "source": [
    "#### 2. Write a function named is_valid_username that accepts a string as input. A valid username starts with a lowercase letter, and only consists of lowercase letters, numbers, or the _ character. It should also be no longer than 32 characters. The function should return either True or False depending on whether the passed string is a valid username."
   ]
  },
  {
   "cell_type": "code",
   "execution_count": 4,
   "id": "33be0c81",
   "metadata": {},
   "outputs": [],
   "source": [
    "def is_valid_username(string):\n",
    "    if re.search(r'^[a-z][a-z0-9_]{0,31}$', string):\n",
    "        return True\n",
    "    else:\n",
    "        return False"
   ]
  },
  {
   "cell_type": "code",
   "execution_count": 5,
   "id": "69c5ce7e",
   "metadata": {
    "scrolled": true
   },
   "outputs": [
    {
     "data": {
      "text/plain": [
       "False"
      ]
     },
     "execution_count": 5,
     "metadata": {},
     "output_type": "execute_result"
    }
   ],
   "source": [
    "is_valid_username('aaaaaaaaaaaaaaaaaaaaaaaaaaaaaaaaa')"
   ]
  },
  {
   "cell_type": "code",
   "execution_count": 6,
   "id": "9089bf65",
   "metadata": {},
   "outputs": [
    {
     "data": {
      "text/plain": [
       "True"
      ]
     },
     "execution_count": 6,
     "metadata": {},
     "output_type": "execute_result"
    }
   ],
   "source": [
    "is_valid_username('codeup')"
   ]
  },
  {
   "cell_type": "code",
   "execution_count": 7,
   "id": "03f864f9",
   "metadata": {},
   "outputs": [
    {
     "data": {
      "text/plain": [
       "False"
      ]
     },
     "execution_count": 7,
     "metadata": {},
     "output_type": "execute_result"
    }
   ],
   "source": [
    "is_valid_username('Codeup')"
   ]
  },
  {
   "cell_type": "code",
   "execution_count": 8,
   "id": "b6c63d7f",
   "metadata": {},
   "outputs": [
    {
     "data": {
      "text/plain": [
       "True"
      ]
     },
     "execution_count": 8,
     "metadata": {},
     "output_type": "execute_result"
    }
   ],
   "source": [
    "is_valid_username('codeup123')"
   ]
  },
  {
   "cell_type": "code",
   "execution_count": 9,
   "id": "0650f58e",
   "metadata": {},
   "outputs": [
    {
     "data": {
      "text/plain": [
       "False"
      ]
     },
     "execution_count": 9,
     "metadata": {},
     "output_type": "execute_result"
    }
   ],
   "source": [
    "is_valid_username('1codeup')"
   ]
  },
  {
   "cell_type": "markdown",
   "id": "799f28ec",
   "metadata": {},
   "source": [
    "#### 3. Write a regular expression to capture phone numbers. It should match all of the following:\n",
    "(210) 867 5309\n",
    "\n",
    "+1 210.867.5309\n",
    "\n",
    "867-5309\n",
    "\n",
    "210-867-5309\n"
   ]
  },
  {
   "cell_type": "code",
   "execution_count": 10,
   "id": "039bdecb",
   "metadata": {},
   "outputs": [],
   "source": [
    "def capture_phone_number(number):\n",
    "    x = re.findall(r'\\d+', number)\n",
    "    return ''.join(x)"
   ]
  },
  {
   "cell_type": "code",
   "execution_count": 11,
   "id": "183e7949",
   "metadata": {
    "scrolled": true
   },
   "outputs": [
    {
     "data": {
      "text/plain": [
       "'2108675309'"
      ]
     },
     "execution_count": 11,
     "metadata": {},
     "output_type": "execute_result"
    }
   ],
   "source": [
    "capture_phone_number('(210) 867 5309')"
   ]
  },
  {
   "cell_type": "code",
   "execution_count": 12,
   "id": "053f2781",
   "metadata": {},
   "outputs": [
    {
     "data": {
      "text/plain": [
       "'12108675309'"
      ]
     },
     "execution_count": 12,
     "metadata": {},
     "output_type": "execute_result"
    }
   ],
   "source": [
    "capture_phone_number('+1 210.867.5309')"
   ]
  },
  {
   "cell_type": "code",
   "execution_count": 13,
   "id": "4b409760",
   "metadata": {},
   "outputs": [
    {
     "data": {
      "text/plain": [
       "'8675309'"
      ]
     },
     "execution_count": 13,
     "metadata": {},
     "output_type": "execute_result"
    }
   ],
   "source": [
    "capture_phone_number('867-5309')"
   ]
  },
  {
   "cell_type": "code",
   "execution_count": 14,
   "id": "a4e4be4d",
   "metadata": {},
   "outputs": [
    {
     "data": {
      "text/plain": [
       "'2108675309'"
      ]
     },
     "execution_count": 14,
     "metadata": {},
     "output_type": "execute_result"
    }
   ],
   "source": [
    "capture_phone_number('210-867-5309')"
   ]
  },
  {
   "cell_type": "markdown",
   "id": "59e2e075",
   "metadata": {},
   "source": [
    "#### 4. Use regular expressions to convert the dates below to the standardized year-month-day format.\n",
    "02/04/19\n",
    "02/05/19\n",
    "02/06/19\n",
    "02/07/19\n",
    "02/08/19\n",
    "02/09/19\n",
    "02/10/19\n"
   ]
  },
  {
   "cell_type": "code",
   "execution_count": 15,
   "id": "33f0bc74",
   "metadata": {},
   "outputs": [],
   "source": [
    "def date_converter(date):\n",
    "    month, day, year = re.search(r'(\\d+)/(\\d+)/(\\d+)', date).groups()\n",
    "    return '20' + year + '-' + month + '-' + day"
   ]
  },
  {
   "cell_type": "code",
   "execution_count": 16,
   "id": "b910d95d",
   "metadata": {},
   "outputs": [
    {
     "data": {
      "text/plain": [
       "'2019-02-04'"
      ]
     },
     "execution_count": 16,
     "metadata": {},
     "output_type": "execute_result"
    }
   ],
   "source": [
    "date_converter('02/04/19')"
   ]
  },
  {
   "cell_type": "code",
   "execution_count": 17,
   "id": "12bb82f0",
   "metadata": {},
   "outputs": [
    {
     "data": {
      "text/plain": [
       "'2019-02-05'"
      ]
     },
     "execution_count": 17,
     "metadata": {},
     "output_type": "execute_result"
    }
   ],
   "source": [
    "date_converter('02/05/19')"
   ]
  },
  {
   "cell_type": "code",
   "execution_count": 18,
   "id": "742c8545",
   "metadata": {},
   "outputs": [
    {
     "data": {
      "text/plain": [
       "'2019-02-06'"
      ]
     },
     "execution_count": 18,
     "metadata": {},
     "output_type": "execute_result"
    }
   ],
   "source": [
    "date_converter('02/06/19')"
   ]
  },
  {
   "cell_type": "code",
   "execution_count": 19,
   "id": "fd7a670b",
   "metadata": {},
   "outputs": [
    {
     "data": {
      "text/plain": [
       "'2019-02-07'"
      ]
     },
     "execution_count": 19,
     "metadata": {},
     "output_type": "execute_result"
    }
   ],
   "source": [
    "date_converter('02/07/19')"
   ]
  },
  {
   "cell_type": "code",
   "execution_count": 20,
   "id": "832c843d",
   "metadata": {},
   "outputs": [
    {
     "data": {
      "text/plain": [
       "'2019-02-08'"
      ]
     },
     "execution_count": 20,
     "metadata": {},
     "output_type": "execute_result"
    }
   ],
   "source": [
    "date_converter('02/08/19')"
   ]
  },
  {
   "cell_type": "code",
   "execution_count": 21,
   "id": "0b0e3278",
   "metadata": {},
   "outputs": [
    {
     "data": {
      "text/plain": [
       "'2019-02-09'"
      ]
     },
     "execution_count": 21,
     "metadata": {},
     "output_type": "execute_result"
    }
   ],
   "source": [
    "date_converter('02/09/19')"
   ]
  },
  {
   "cell_type": "code",
   "execution_count": 22,
   "id": "97e5cf81",
   "metadata": {},
   "outputs": [
    {
     "data": {
      "text/plain": [
       "'2019-02-10'"
      ]
     },
     "execution_count": 22,
     "metadata": {},
     "output_type": "execute_result"
    }
   ],
   "source": [
    "date_converter('02/10/19')"
   ]
  },
  {
   "cell_type": "markdown",
   "id": "8ecce27b",
   "metadata": {},
   "source": [
    "#### 5. Write a regex to extract the various parts of these logfile lines:\n",
    "GET /api/v1/sales?page=86 [16/Apr/2019:193452+0000] HTTP/1.1 {200} 510348 \"python-requests/2.21.0\" 97.105.19.58\n",
    "\n",
    "POST /users_accounts/file-upload [16/Apr/2019:193452+0000] HTTP/1.1 {201} 42 \"User-Agent: Mozilla/5.0 (X11; Fedora; Fedora; Linux x86_64) AppleWebKit/537.36 (KHTML, like Gecko) Chrome/73.0.3683.86 Safari/537.36\" 97.105.19.58\n",
    "\n",
    "GET /api/v1/items?page=3 [16/Apr/2019:193453+0000] HTTP/1.1 {429} 3561 \"python-requests/2.21.0\" 97.105.19.58\n"
   ]
  },
  {
   "cell_type": "code",
   "execution_count": 23,
   "id": "08ef2f0f",
   "metadata": {},
   "outputs": [],
   "source": [
    "def extract_log_info(log_file):\n",
    "    logfile_re = command, path, date, version, status_code, bytes_transferred, requester, ip = re.search(r'(.+) /(.+) \\[(.+)\\] (.+) {(.+)} (.+) \"(.+)\" (.+)', text).groups()\n",
    "    print(f'Command: {command}\\nPath: {path}\\nDatetime: {date}\\nVersion: {version}\\nStatus Code: {status_code}\\nBytes Transferred: {bytes_transferred}\\nRequesting Agent: {requester}\\nIP: {ip}')"
   ]
  },
  {
   "cell_type": "code",
   "execution_count": 24,
   "id": "3bfe5da0",
   "metadata": {},
   "outputs": [
    {
     "name": "stdout",
     "output_type": "stream",
     "text": [
      "Command: GET\n",
      "Path: api/v1/sales?page=86\n",
      "Datetime: 16/Apr/2019:193452+0000\n",
      "Version: HTTP/1.1\n",
      "Status Code: 200\n",
      "Bytes Transferred: 510348\n",
      "Requesting Agent: python-requests/2.21.0\n",
      "IP: 97.105.19.58\n"
     ]
    }
   ],
   "source": [
    "text = 'GET /api/v1/sales?page=86 [16/Apr/2019:193452+0000] HTTP/1.1 {200} 510348 \"python-requests/2.21.0\" 97.105.19.58'\n",
    "extract_log_info(text)"
   ]
  },
  {
   "cell_type": "code",
   "execution_count": 25,
   "id": "fbafb436",
   "metadata": {},
   "outputs": [
    {
     "name": "stdout",
     "output_type": "stream",
     "text": [
      "Command: POST\n",
      "Path: users_accounts/file-upload\n",
      "Datetime: 16/Apr/2019:193452+0000\n",
      "Version: HTTP/1.1\n",
      "Status Code: 201\n",
      "Bytes Transferred: 42\n",
      "Requesting Agent: User-Agent: Mozilla/5.0 (X11; Fedora; Fedora; Linux x86_64) AppleWebKit/537.36 (KHTML, like Gecko) Chrome/73.0.3683.86 Safari/537.36\n",
      "IP: 97.105.19.58\n"
     ]
    }
   ],
   "source": [
    "text = 'POST /users_accounts/file-upload [16/Apr/2019:193452+0000] HTTP/1.1 {201} 42 \"User-Agent: Mozilla/5.0 (X11; Fedora; Fedora; Linux x86_64) AppleWebKit/537.36 (KHTML, like Gecko) Chrome/73.0.3683.86 Safari/537.36\" 97.105.19.58'\n",
    "extract_log_info(text)"
   ]
  },
  {
   "cell_type": "code",
   "execution_count": 26,
   "id": "7bdf1131",
   "metadata": {},
   "outputs": [
    {
     "name": "stdout",
     "output_type": "stream",
     "text": [
      "Command: GET\n",
      "Path: api/v1/items?page=3\n",
      "Datetime: 16/Apr/2019:193453+0000\n",
      "Version: HTTP/1.1\n",
      "Status Code: 429\n",
      "Bytes Transferred: 3561\n",
      "Requesting Agent: python-requests/2.21.0\n",
      "IP: 97.105.19.58\n"
     ]
    }
   ],
   "source": [
    "text = 'GET /api/v1/items?page=3 [16/Apr/2019:193453+0000] HTTP/1.1 {429} 3561 \"python-requests/2.21.0\" 97.105.19.58'\n",
    "extract_log_info(text)"
   ]
  },
  {
   "cell_type": "markdown",
   "id": "624ddb57",
   "metadata": {},
   "source": [
    "### Bonus Exercise\n",
    "You can find a list of words on your mac at /usr/share/dict/words. Use this file to answer the following questions:\n",
    "\n",
    "- How many words have at least 3 vowels?\n",
    "- How many words have at least 3 vowels in a row?\n",
    "- How many words have at least 4 consonants in a row?\n",
    "- How many words start and end with the same letter?\n",
    "- How many words start and end with a vowel?\n",
    "- How many words contain the same letter 3 times in a row?\n",
    "- What other interesting patterns in words can you find?\n"
   ]
  },
  {
   "cell_type": "code",
   "execution_count": 27,
   "id": "e1fe205b",
   "metadata": {},
   "outputs": [],
   "source": [
    "df = pd.read_csv('/usr/share/dict/words', keep_default_na=False)"
   ]
  },
  {
   "cell_type": "markdown",
   "id": "d765eade",
   "metadata": {},
   "source": [
    "#### How many words have at least 3 vowels?"
   ]
  },
  {
   "cell_type": "code",
   "execution_count": 29,
   "id": "d2f96614",
   "metadata": {},
   "outputs": [],
   "source": [
    "def check_3_vowels(df):\n",
    "    total = 0\n",
    "    length = len(df)\n",
    "    for i in range(length):\n",
    "        if re.search(r'[aeiou].*[aeiou].*[aeiou]',df['A'].iloc[i], re.IGNORECASE):\n",
    "            total += 1\n",
    "    return total"
   ]
  },
  {
   "cell_type": "code",
   "execution_count": 30,
   "id": "72935a9e",
   "metadata": {},
   "outputs": [
    {
     "data": {
      "text/plain": [
       "191365"
      ]
     },
     "execution_count": 30,
     "metadata": {},
     "output_type": "execute_result"
    }
   ],
   "source": [
    "check_3_vowels(df)"
   ]
  },
  {
   "cell_type": "markdown",
   "id": "6a2afb7e",
   "metadata": {},
   "source": [
    "#### How many words have at least 3 vowels in a row?"
   ]
  },
  {
   "cell_type": "code",
   "execution_count": 31,
   "id": "df35e93b",
   "metadata": {},
   "outputs": [],
   "source": [
    "def check_3_vowels_sequential(df):\n",
    "    total = 0\n",
    "    length = len(df)\n",
    "    for i in range(length):\n",
    "        if re.search(r'[aeiou]{3}',df['A'].iloc[i], re.IGNORECASE):\n",
    "            total += 1\n",
    "    return total"
   ]
  },
  {
   "cell_type": "code",
   "execution_count": 32,
   "id": "24c25c3d",
   "metadata": {},
   "outputs": [
    {
     "data": {
      "text/plain": [
       "6182"
      ]
     },
     "execution_count": 32,
     "metadata": {},
     "output_type": "execute_result"
    }
   ],
   "source": [
    "check_3_vowels_sequential(df)"
   ]
  },
  {
   "cell_type": "markdown",
   "id": "dfbc5467",
   "metadata": {},
   "source": [
    "#### How many words have at least 4 consonants in a row?"
   ]
  },
  {
   "cell_type": "code",
   "execution_count": 33,
   "id": "a98a1725",
   "metadata": {},
   "outputs": [],
   "source": [
    "def check_4_consonants_sequential(df):\n",
    "    total = 0\n",
    "    length = len(df)\n",
    "    for i in range(length):\n",
    "        if re.search(r'[^aeiou]{4}',df['A'].iloc[i], re.IGNORECASE):\n",
    "            total += 1\n",
    "    return total"
   ]
  },
  {
   "cell_type": "code",
   "execution_count": 34,
   "id": "97c49d6b",
   "metadata": {},
   "outputs": [
    {
     "data": {
      "text/plain": [
       "19241"
      ]
     },
     "execution_count": 34,
     "metadata": {},
     "output_type": "execute_result"
    }
   ],
   "source": [
    "check_4_consonants_sequential(df)"
   ]
  },
  {
   "cell_type": "markdown",
   "id": "1dfeca34",
   "metadata": {},
   "source": [
    "#### How many words start and end with the same letter?"
   ]
  },
  {
   "cell_type": "code",
   "execution_count": 35,
   "id": "6f40c415",
   "metadata": {},
   "outputs": [],
   "source": [
    "def same_letter_start_end(df):\n",
    "    total = 0\n",
    "    length = len(df)\n",
    "    for i in range(length):\n",
    "        if re.search(r'^(\\w).*\\1$', df['A'].iloc[i], re.IGNORECASE):\n",
    "            total +=1\n",
    "    return total"
   ]
  },
  {
   "cell_type": "code",
   "execution_count": 36,
   "id": "2144546d",
   "metadata": {},
   "outputs": [
    {
     "data": {
      "text/plain": [
       "11453"
      ]
     },
     "execution_count": 36,
     "metadata": {},
     "output_type": "execute_result"
    }
   ],
   "source": [
    "same_letter_start_end(df)"
   ]
  },
  {
   "cell_type": "markdown",
   "id": "1792a87b",
   "metadata": {},
   "source": [
    "#### How many words start and end with a vowel?"
   ]
  },
  {
   "cell_type": "code",
   "execution_count": 37,
   "id": "2883713c",
   "metadata": {},
   "outputs": [],
   "source": [
    "def vowel_start_end(df):\n",
    "    total = 0\n",
    "    length = len(df)\n",
    "    for i in range(length):\n",
    "        if re.search(r'^[aeiou].*[aeiou]$', df['A'].iloc[i], re.IGNORECASE):\n",
    "            total +=1\n",
    "    return total"
   ]
  },
  {
   "cell_type": "code",
   "execution_count": 38,
   "id": "a645197a",
   "metadata": {},
   "outputs": [
    {
     "data": {
      "text/plain": [
       "14657"
      ]
     },
     "execution_count": 38,
     "metadata": {},
     "output_type": "execute_result"
    }
   ],
   "source": [
    "vowel_start_end(df)"
   ]
  },
  {
   "cell_type": "markdown",
   "id": "b224acc6",
   "metadata": {},
   "source": [
    "#### How many words contain the same letter 3 times in a row?"
   ]
  },
  {
   "cell_type": "code",
   "execution_count": 39,
   "id": "f2719530",
   "metadata": {},
   "outputs": [],
   "source": [
    "def check_3_letters_sequential(df):\n",
    "    total = 0\n",
    "    length = len(df)\n",
    "    for i in range(length):\n",
    "        if re.search(r'(\\w)\\1\\1',df['A'].iloc[i], re.IGNORECASE):\n",
    "            total += 1\n",
    "    return total"
   ]
  },
  {
   "cell_type": "code",
   "execution_count": 40,
   "id": "15639afe",
   "metadata": {},
   "outputs": [
    {
     "data": {
      "text/plain": [
       "7"
      ]
     },
     "execution_count": 40,
     "metadata": {},
     "output_type": "execute_result"
    }
   ],
   "source": [
    "check_3_letters_sequential(df)"
   ]
  },
  {
   "cell_type": "markdown",
   "id": "112d523b",
   "metadata": {},
   "source": [
    "#### What other interesting patterns in words can you find?"
   ]
  },
  {
   "cell_type": "code",
   "execution_count": 41,
   "id": "1c321bc7",
   "metadata": {},
   "outputs": [],
   "source": [
    "def check_alt_cons_vowel(df):\n",
    "    total = 0\n",
    "    length = len(df)\n",
    "    for i in range(length):\n",
    "        if re.search(r'[aeiou][^aeiou]{9}|[^aeiou][aeiou]{9}',df['A'].iloc[i], re.IGNORECASE):\n",
    "            total += 1\n",
    "    return total"
   ]
  },
  {
   "cell_type": "code",
   "execution_count": 42,
   "id": "85f84c18",
   "metadata": {},
   "outputs": [
    {
     "data": {
      "text/plain": [
       "4"
      ]
     },
     "execution_count": 42,
     "metadata": {},
     "output_type": "execute_result"
    }
   ],
   "source": [
    "check_alt_cons_vowel(df)"
   ]
  }
 ],
 "metadata": {
  "kernelspec": {
   "display_name": "Python 3 (ipykernel)",
   "language": "python",
   "name": "python3"
  },
  "language_info": {
   "codemirror_mode": {
    "name": "ipython",
    "version": 3
   },
   "file_extension": ".py",
   "mimetype": "text/x-python",
   "name": "python",
   "nbconvert_exporter": "python",
   "pygments_lexer": "ipython3",
   "version": "3.9.7"
  }
 },
 "nbformat": 4,
 "nbformat_minor": 5
}
