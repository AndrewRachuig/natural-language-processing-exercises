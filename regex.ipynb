{
 "cells": [
  {
   "cell_type": "code",
   "execution_count": 1,
   "id": "94fbff1e",
   "metadata": {},
   "outputs": [],
   "source": [
    "import pandas as pd\n",
    "import re"
   ]
  },
  {
   "cell_type": "markdown",
   "id": "0229b829",
   "metadata": {},
   "source": [
    "# Exercises"
   ]
  },
  {
   "cell_type": "markdown",
   "id": "a326bdaf",
   "metadata": {},
   "source": [
    "#### 1. Write a function named is_vowel. It should accept a string as input and use a regular expression to determine if the passed string is a vowel. While not explicity mentioned in the lesson, you can treat the result of re.search as a boolean value that indicates whether or not the regular expression matches the given string."
   ]
  },
  {
   "cell_type": "code",
   "execution_count": 2,
   "id": "0102ddec",
   "metadata": {},
   "outputs": [],
   "source": [
    "def is_vowel(string):\n",
    "    if re.search(r'^[aeiou]$', string):\n",
    "        print('The input string is a vowel.')\n",
    "    else:\n",
    "        print('The input string is not a vowel.')"
   ]
  },
  {
   "cell_type": "markdown",
   "id": "e1331183",
   "metadata": {},
   "source": [
    "#### 2. Write a function named is_valid_username that accepts a string as input. A valid username starts with a lowercase letter, and only consists of lowercase letters, numbers, or the _ character. It should also be no longer than 32 characters. The function should return either True or False depending on whether the passed string is a valid username."
   ]
  },
  {
   "cell_type": "code",
   "execution_count": 3,
   "id": "487b6d4c",
   "metadata": {},
   "outputs": [],
   "source": [
    "def is_valid_username(string):\n",
    "    if re.search(r'^[a-z]\\w{0,31}$', string):\n",
    "        return True\n",
    "    else:\n",
    "        return False"
   ]
  },
  {
   "cell_type": "code",
   "execution_count": 4,
   "id": "295ce288",
   "metadata": {
    "scrolled": true
   },
   "outputs": [
    {
     "data": {
      "text/plain": [
       "False"
      ]
     },
     "execution_count": 4,
     "metadata": {},
     "output_type": "execute_result"
    }
   ],
   "source": [
    "is_valid_username('aaaaaaaaaaaaaaaaaaaaaaaaaaaaaaaaa')"
   ]
  },
  {
   "cell_type": "code",
   "execution_count": 5,
   "id": "4a8ccb43",
   "metadata": {},
   "outputs": [
    {
     "data": {
      "text/plain": [
       "True"
      ]
     },
     "execution_count": 5,
     "metadata": {},
     "output_type": "execute_result"
    }
   ],
   "source": [
    "is_valid_username('codeup')"
   ]
  },
  {
   "cell_type": "code",
   "execution_count": 6,
   "id": "0f270b4d",
   "metadata": {},
   "outputs": [
    {
     "data": {
      "text/plain": [
       "False"
      ]
     },
     "execution_count": 6,
     "metadata": {},
     "output_type": "execute_result"
    }
   ],
   "source": [
    "is_valid_username('Codeup')"
   ]
  },
  {
   "cell_type": "code",
   "execution_count": 7,
   "id": "7de3c4b0",
   "metadata": {},
   "outputs": [
    {
     "data": {
      "text/plain": [
       "True"
      ]
     },
     "execution_count": 7,
     "metadata": {},
     "output_type": "execute_result"
    }
   ],
   "source": [
    "is_valid_username('codeup123')"
   ]
  },
  {
   "cell_type": "code",
   "execution_count": 8,
   "id": "b47522fa",
   "metadata": {},
   "outputs": [
    {
     "data": {
      "text/plain": [
       "False"
      ]
     },
     "execution_count": 8,
     "metadata": {},
     "output_type": "execute_result"
    }
   ],
   "source": [
    "is_valid_username('1codeup')"
   ]
  },
  {
   "cell_type": "markdown",
   "id": "59fb766b",
   "metadata": {},
   "source": [
    "#### 3. Write a regular expression to capture phone numbers. It should match all of the following:\n",
    "(210) 867 5309\n",
    "\n",
    "+1 210.867.5309\n",
    "\n",
    "867-5309\n",
    "\n",
    "210-867-5309\n"
   ]
  },
  {
   "cell_type": "code",
   "execution_count": 9,
   "id": "d26c1625",
   "metadata": {},
   "outputs": [],
   "source": [
    "def capture_phone_number(number):\n",
    "    x = re.findall(r'\\d+', number)\n",
    "    y = ''.join(x)\n",
    "    return y"
   ]
  },
  {
   "cell_type": "code",
   "execution_count": 10,
   "id": "20720c51",
   "metadata": {
    "scrolled": true
   },
   "outputs": [
    {
     "data": {
      "text/plain": [
       "'2108675309'"
      ]
     },
     "execution_count": 10,
     "metadata": {},
     "output_type": "execute_result"
    }
   ],
   "source": [
    "capture_phone_number('(210) 867 5309')"
   ]
  },
  {
   "cell_type": "code",
   "execution_count": 11,
   "id": "0c6adbc3",
   "metadata": {},
   "outputs": [
    {
     "data": {
      "text/plain": [
       "'12108675309'"
      ]
     },
     "execution_count": 11,
     "metadata": {},
     "output_type": "execute_result"
    }
   ],
   "source": [
    "capture_phone_number('+1 210.867.5309')"
   ]
  },
  {
   "cell_type": "code",
   "execution_count": 12,
   "id": "43184bb5",
   "metadata": {},
   "outputs": [
    {
     "data": {
      "text/plain": [
       "'8675309'"
      ]
     },
     "execution_count": 12,
     "metadata": {},
     "output_type": "execute_result"
    }
   ],
   "source": [
    "capture_phone_number('867-5309')"
   ]
  },
  {
   "cell_type": "code",
   "execution_count": 13,
   "id": "d54a800f",
   "metadata": {},
   "outputs": [
    {
     "data": {
      "text/plain": [
       "'2108675309'"
      ]
     },
     "execution_count": 13,
     "metadata": {},
     "output_type": "execute_result"
    }
   ],
   "source": [
    "capture_phone_number('210-867-5309')"
   ]
  },
  {
   "cell_type": "markdown",
   "id": "b926390a",
   "metadata": {},
   "source": [
    "#### 4. Use regular expressions to convert the dates below to the standardized year-month-day format.\n",
    "02/04/19\n",
    "02/05/19\n",
    "02/06/19\n",
    "02/07/19\n",
    "02/08/19\n",
    "02/09/19\n",
    "02/10/19\n"
   ]
  },
  {
   "cell_type": "code",
   "execution_count": 14,
   "id": "68888611",
   "metadata": {},
   "outputs": [],
   "source": [
    "def date_converter(date):\n",
    "    month, day, year = re.search(r'(\\d+)/(\\d+)/(\\d+)', date).groups()\n",
    "    return year + '/' + month + '/' + day"
   ]
  },
  {
   "cell_type": "code",
   "execution_count": 15,
   "id": "60582501",
   "metadata": {},
   "outputs": [
    {
     "data": {
      "text/plain": [
       "'19/02/04'"
      ]
     },
     "execution_count": 15,
     "metadata": {},
     "output_type": "execute_result"
    }
   ],
   "source": [
    "date_converter('02/04/19')"
   ]
  },
  {
   "cell_type": "code",
   "execution_count": 16,
   "id": "fc1b068e",
   "metadata": {},
   "outputs": [
    {
     "data": {
      "text/plain": [
       "'19/02/05'"
      ]
     },
     "execution_count": 16,
     "metadata": {},
     "output_type": "execute_result"
    }
   ],
   "source": [
    "date_converter('02/05/19')"
   ]
  },
  {
   "cell_type": "code",
   "execution_count": 17,
   "id": "f01ea835",
   "metadata": {},
   "outputs": [
    {
     "data": {
      "text/plain": [
       "'19/02/06'"
      ]
     },
     "execution_count": 17,
     "metadata": {},
     "output_type": "execute_result"
    }
   ],
   "source": [
    "date_converter('02/06/19')"
   ]
  },
  {
   "cell_type": "code",
   "execution_count": 18,
   "id": "db78c02b",
   "metadata": {},
   "outputs": [
    {
     "data": {
      "text/plain": [
       "'19/02/07'"
      ]
     },
     "execution_count": 18,
     "metadata": {},
     "output_type": "execute_result"
    }
   ],
   "source": [
    "date_converter('02/07/19')"
   ]
  },
  {
   "cell_type": "code",
   "execution_count": 19,
   "id": "9119488a",
   "metadata": {},
   "outputs": [
    {
     "data": {
      "text/plain": [
       "'19/02/08'"
      ]
     },
     "execution_count": 19,
     "metadata": {},
     "output_type": "execute_result"
    }
   ],
   "source": [
    "date_converter('02/08/19')"
   ]
  },
  {
   "cell_type": "code",
   "execution_count": 20,
   "id": "15661e31",
   "metadata": {},
   "outputs": [
    {
     "data": {
      "text/plain": [
       "'19/02/09'"
      ]
     },
     "execution_count": 20,
     "metadata": {},
     "output_type": "execute_result"
    }
   ],
   "source": [
    "date_converter('02/09/19')"
   ]
  },
  {
   "cell_type": "code",
   "execution_count": 21,
   "id": "5bc3392e",
   "metadata": {},
   "outputs": [
    {
     "data": {
      "text/plain": [
       "'19/02/10'"
      ]
     },
     "execution_count": 21,
     "metadata": {},
     "output_type": "execute_result"
    }
   ],
   "source": [
    "date_converter('02/10/19')"
   ]
  },
  {
   "cell_type": "markdown",
   "id": "72f219ab",
   "metadata": {},
   "source": [
    "#### 5. Write a regex to extract the various parts of these logfile lines:\n",
    "GET /api/v1/sales?page=86 [16/Apr/2019:193452+0000] HTTP/1.1 {200} 510348 \"python-requests/2.21.0\" 97.105.19.58\n",
    "\n",
    "POST /users_accounts/file-upload [16/Apr/2019:193452+0000] HTTP/1.1 {201} 42 \"User-Agent: Mozilla/5.0 (X11; Fedora; Fedora; Linux x86_64) AppleWebKit/537.36 (KHTML, like Gecko) Chrome/73.0.3683.86 Safari/537.36\" 97.105.19.58\n",
    "\n",
    "GET /api/v1/items?page=3 [16/Apr/2019:193453+0000] HTTP/1.1 {429} 3561 \"python-requests/2.21.0\" 97.105.19.58\n"
   ]
  },
  {
   "cell_type": "code",
   "execution_count": 22,
   "id": "e8c306aa",
   "metadata": {},
   "outputs": [],
   "source": [
    "def extract_log_info(log_file):\n",
    "    command, path, date, version, status_code, bytes_transferred, requester, ip = re.search(r'(.+) /(.+) \\[(.+)\\] (.+) {(.+)} (.+) \"(.+)\" (.+)', text).groups()\n",
    "    print(f'Command: {command}\\nPath: {path}\\nDate: {date}\\nVersion: {version}\\nStatus Code: {status_code}\\nBytes Transferred: {bytes_transferred}\\nRequester: {requester}\\nIP: {ip}')"
   ]
  },
  {
   "cell_type": "code",
   "execution_count": 23,
   "id": "85f3bc6d",
   "metadata": {},
   "outputs": [
    {
     "name": "stdout",
     "output_type": "stream",
     "text": [
      "Command: GET\n",
      "Path: api/v1/sales?page=86\n",
      "Date: 16/Apr/2019:193452+0000\n",
      "Version: HTTP/1.1\n",
      "Status Code: 200\n",
      "Bytes Transferred: 510348\n",
      "Requester: python-requests/2.21.0\n",
      "IP: 97.105.19.58\n"
     ]
    }
   ],
   "source": [
    "text = 'GET /api/v1/sales?page=86 [16/Apr/2019:193452+0000] HTTP/1.1 {200} 510348 \"python-requests/2.21.0\" 97.105.19.58'\n",
    "extract_log_info(text)"
   ]
  },
  {
   "cell_type": "code",
   "execution_count": 24,
   "id": "ed216597",
   "metadata": {},
   "outputs": [
    {
     "name": "stdout",
     "output_type": "stream",
     "text": [
      "Command: POST\n",
      "Path: users_accounts/file-upload\n",
      "Date: 16/Apr/2019:193452+0000\n",
      "Version: HTTP/1.1\n",
      "Status Code: 201\n",
      "Bytes Transferred: 42\n",
      "Requester: User-Agent: Mozilla/5.0 (X11; Fedora; Fedora; Linux x86_64) AppleWebKit/537.36 (KHTML, like Gecko) Chrome/73.0.3683.86 Safari/537.36\n",
      "IP: 97.105.19.58\n"
     ]
    }
   ],
   "source": [
    "text = 'POST /users_accounts/file-upload [16/Apr/2019:193452+0000] HTTP/1.1 {201} 42 \"User-Agent: Mozilla/5.0 (X11; Fedora; Fedora; Linux x86_64) AppleWebKit/537.36 (KHTML, like Gecko) Chrome/73.0.3683.86 Safari/537.36\" 97.105.19.58'\n",
    "extract_log_info(text)"
   ]
  },
  {
   "cell_type": "code",
   "execution_count": 25,
   "id": "4489264a",
   "metadata": {},
   "outputs": [
    {
     "name": "stdout",
     "output_type": "stream",
     "text": [
      "Command: GET\n",
      "Path: api/v1/items?page=3\n",
      "Date: 16/Apr/2019:193453+0000\n",
      "Version: HTTP/1.1\n",
      "Status Code: 429\n",
      "Bytes Transferred: 3561\n",
      "Requester: python-requests/2.21.0\n",
      "IP: 97.105.19.58\n"
     ]
    }
   ],
   "source": [
    "text = 'GET /api/v1/items?page=3 [16/Apr/2019:193453+0000] HTTP/1.1 {429} 3561 \"python-requests/2.21.0\" 97.105.19.58'\n",
    "extract_log_info(text)"
   ]
  },
  {
   "cell_type": "markdown",
   "id": "3deb5083",
   "metadata": {},
   "source": [
    "### Bonus Exercise\n",
    "You can find a list of words on your mac at /usr/share/dict/words. Use this file to answer the following questions:\n",
    "\n",
    "- How many words have at least 3 vowels?\n",
    "- How many words have at least 3 vowels in a row?\n",
    "- How many words have at least 4 consonants in a row?\n",
    "- How many words start and end with the same letter?\n",
    "- How many words start and end with a vowel?\n",
    "- How many words contain the same letter 3 times in a row?\n",
    "- What other interesting patterns in words can you find?\n"
   ]
  },
  {
   "cell_type": "code",
   "execution_count": 100,
   "id": "248d8c79",
   "metadata": {},
   "outputs": [],
   "source": [
    "df = pd.read_csv('/usr/share/dict/words', keep_default_na=False)"
   ]
  },
  {
   "cell_type": "markdown",
   "id": "d28c8d54",
   "metadata": {},
   "source": [
    "#### How many words have at least 3 vowels?"
   ]
  },
  {
   "cell_type": "code",
   "execution_count": 151,
   "id": "9e308590",
   "metadata": {},
   "outputs": [],
   "source": [
    "def check_3_vowels(df):\n",
    "    total = 0\n",
    "    length = len(df)\n",
    "    for i in range(length):\n",
    "        if re.search(r'[aeiou].*[aeiou].*[aeiou]',df['A'].iloc[i], re.IGNORECASE):\n",
    "            total += 1\n",
    "    return total"
   ]
  },
  {
   "cell_type": "code",
   "execution_count": 152,
   "id": "c7577167",
   "metadata": {},
   "outputs": [
    {
     "data": {
      "text/plain": [
       "191365"
      ]
     },
     "execution_count": 152,
     "metadata": {},
     "output_type": "execute_result"
    }
   ],
   "source": [
    "check_3_vowels(df)"
   ]
  },
  {
   "cell_type": "markdown",
   "id": "40cc865e",
   "metadata": {},
   "source": [
    "#### How many words have at least 3 vowels in a row?"
   ]
  },
  {
   "cell_type": "code",
   "execution_count": 153,
   "id": "c66b4cb2",
   "metadata": {},
   "outputs": [],
   "source": [
    "def check_3_vowels_sequential(df):\n",
    "    total = 0\n",
    "    length = len(df)\n",
    "    for i in range(length):\n",
    "        if re.search(r'[aeiou]{3}',df['A'].iloc[i], re.IGNORECASE):\n",
    "            total += 1\n",
    "    return total"
   ]
  },
  {
   "cell_type": "code",
   "execution_count": 154,
   "id": "2305f6d5",
   "metadata": {},
   "outputs": [
    {
     "data": {
      "text/plain": [
       "6182"
      ]
     },
     "execution_count": 154,
     "metadata": {},
     "output_type": "execute_result"
    }
   ],
   "source": [
    "check_3_vowels_sequential(df)"
   ]
  },
  {
   "cell_type": "markdown",
   "id": "c9cb0256",
   "metadata": {},
   "source": [
    "#### How many words have at least 4 consonants in a row?"
   ]
  },
  {
   "cell_type": "code",
   "execution_count": 155,
   "id": "842268a7",
   "metadata": {},
   "outputs": [],
   "source": [
    "def check_4_consonants_sequential(df):\n",
    "    total = 0\n",
    "    length = len(df)\n",
    "    for i in range(length):\n",
    "        if re.search(r'[^aeiou]{4}',df['A'].iloc[i], re.IGNORECASE):\n",
    "            total += 1\n",
    "    return total"
   ]
  },
  {
   "cell_type": "code",
   "execution_count": 156,
   "id": "4e8083ae",
   "metadata": {},
   "outputs": [
    {
     "data": {
      "text/plain": [
       "19241"
      ]
     },
     "execution_count": 156,
     "metadata": {},
     "output_type": "execute_result"
    }
   ],
   "source": [
    "check_4_consonants_sequential(df)"
   ]
  },
  {
   "cell_type": "markdown",
   "id": "04537a15",
   "metadata": {},
   "source": [
    "#### How many words start and end with the same letter?"
   ]
  },
  {
   "cell_type": "code",
   "execution_count": 157,
   "id": "235511c5",
   "metadata": {},
   "outputs": [],
   "source": [
    "def same_letter_start_end(df):\n",
    "    total = 0\n",
    "    length = len(df)\n",
    "    for i in range(length):\n",
    "        if re.search(r'^(\\w).*\\1$', df['A'].iloc[i], re.IGNORECASE):\n",
    "            total +=1\n",
    "    return total"
   ]
  },
  {
   "cell_type": "code",
   "execution_count": 158,
   "id": "2012e72b",
   "metadata": {},
   "outputs": [
    {
     "data": {
      "text/plain": [
       "11453"
      ]
     },
     "execution_count": 158,
     "metadata": {},
     "output_type": "execute_result"
    }
   ],
   "source": [
    "same_letter_start_end(df)"
   ]
  },
  {
   "cell_type": "markdown",
   "id": "b22100c3",
   "metadata": {},
   "source": [
    "#### How many words start and end with a vowel?"
   ]
  },
  {
   "cell_type": "code",
   "execution_count": 159,
   "id": "4e3ca1cc",
   "metadata": {},
   "outputs": [],
   "source": [
    "def vowel_start_end(df):\n",
    "    total = 0\n",
    "    length = len(df)\n",
    "    for i in range(length):\n",
    "        if re.search(r'^[aeiou].*[aeiou]$', df['A'].iloc[i], re.IGNORECASE):\n",
    "            total +=1\n",
    "    return total"
   ]
  },
  {
   "cell_type": "code",
   "execution_count": 160,
   "id": "3f5219e0",
   "metadata": {},
   "outputs": [
    {
     "data": {
      "text/plain": [
       "14657"
      ]
     },
     "execution_count": 160,
     "metadata": {},
     "output_type": "execute_result"
    }
   ],
   "source": [
    "vowel_start_end(df)"
   ]
  },
  {
   "cell_type": "markdown",
   "id": "13762331",
   "metadata": {},
   "source": [
    "#### How many words contain the same letter 3 times in a row?"
   ]
  },
  {
   "cell_type": "code",
   "execution_count": 161,
   "id": "c2f5feb4",
   "metadata": {},
   "outputs": [],
   "source": [
    "def check_3_letters_sequential(df):\n",
    "    total = 0\n",
    "    length = len(df)\n",
    "    for i in range(length):\n",
    "        if re.search(r'(\\w)\\1\\1',df['A'].iloc[i], re.IGNORECASE):\n",
    "            total += 1\n",
    "    return total"
   ]
  },
  {
   "cell_type": "code",
   "execution_count": 162,
   "id": "7ad3db3b",
   "metadata": {},
   "outputs": [
    {
     "data": {
      "text/plain": [
       "7"
      ]
     },
     "execution_count": 162,
     "metadata": {},
     "output_type": "execute_result"
    }
   ],
   "source": [
    "check_3_letters_sequential(df)"
   ]
  },
  {
   "cell_type": "markdown",
   "id": "228be7a2",
   "metadata": {},
   "source": [
    "#### What other interesting patterns in words can you find?"
   ]
  }
 ],
 "metadata": {
  "kernelspec": {
   "display_name": "Python 3 (ipykernel)",
   "language": "python",
   "name": "python3"
  },
  "language_info": {
   "codemirror_mode": {
    "name": "ipython",
    "version": 3
   },
   "file_extension": ".py",
   "mimetype": "text/x-python",
   "name": "python",
   "nbconvert_exporter": "python",
   "pygments_lexer": "ipython3",
   "version": "3.9.7"
  }
 },
 "nbformat": 4,
 "nbformat_minor": 5
}
